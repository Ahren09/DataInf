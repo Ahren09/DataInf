{
 "cells": [
  {
   "cell_type": "markdown",
   "id": "51542ae2",
   "metadata": {},
   "source": [
    "# Influential data identification - Llama2 - Math - Reason\n",
    "\n",
    "This notebook demonstrates how to efficiently compute the influence functions using DataInf, showing its application to **influential data identification** tasks.\n",
    "\n",
    "- Model: [llama-2-13b-chat](https://huggingface.co/meta-llama/Llama-2-13b-chat-hf) trained on a mix of publicly available online datasets.\n",
    "- Fine-tuning dataset: Synthetic Math Problem (with reasoning) dataset\n",
    "\n",
    "References\n",
    "- `trl` HuggingFace library [[Link]](https://github.com/huggingface/trl).\n",
    "- DataInf is available at this [ArXiv link](https://arxiv.org/abs/2310.00902)."
   ]
  },
  {
   "cell_type": "code",
   "execution_count": 1,
   "id": "759f0a20",
   "metadata": {},
   "outputs": [],
   "source": [
    "import sys\n",
    "sys.path.append('../src')\n",
    "from lora_model import LORAEngineGeneration\n",
    "from influence import IFEngineGeneration"
   ]
  },
  {
   "cell_type": "markdown",
   "id": "137e0c14",
   "metadata": {},
   "source": [
    "## Fine-tune a model\n",
    "- We fine-tune a llama-2-13b-chat model on the `math problem (with reasoning)` dataset. We use `src/sft_trainer.py`, which is built on HuggingFace's [SFTTrainer](https://github.com/huggingface/trl/blob/main/examples/scripts/sft.py). \n",
    "- We provide a trained weight at `models/math_13bf`. If you want to fine-tune a model, please uncomment the following code cell. It will take around 30 minutes.\n",
    "- For the `sentence transformation` and `math problem (without reasoning)` datasets, please replace `math_with_reason_train` with `grammars_train` or `math_without_reason_train`."
   ]
  },
  {
   "cell_type": "code",
   "execution_count": 14,
   "id": "7d569f5a",
   "metadata": {},
   "outputs": [],
   "source": [
    "# !python /YOUR-DATAINF-PATH/DataInf/src/sft_trainer.py \\\n",
    "#     --model_name /YOUR-LLAMA-PATH/llama/models_hf/llama-2-13b-chat \\\n",
    "#     --dataset_name /YOUR-DATAINF-PATH/DataInf/datasets/math_with_reason_train.hf \\\n",
    "#     --output_dir /YOUR-DATAINF-PATH/DataInf/models/math_with_reason_13bf \\\n",
    "#     --dataset_text_field text \\\n",
    "#     --load_in_8bit \\\n",
    "#     --use_peft"
   ]
  },
  {
   "cell_type": "markdown",
   "id": "62fdb7d3",
   "metadata": {},
   "source": [
    "## Load a fine-tuned model"
   ]
  },
  {
   "cell_type": "code",
   "execution_count": 15,
   "id": "1b732140",
   "metadata": {},
   "outputs": [
    {
     "name": "stderr",
     "output_type": "stream",
     "text": [
      "You are using the default legacy behaviour of the <class 'transformers.models.llama.tokenization_llama.LlamaTokenizer'>. If you see this, DO NOT PANIC! This is expected, and simply means that the `legacy` (previous) behavior will be used so nothing changes for you. If you want to use the new behaviour, set `legacy=False`. This should only be set if you understand what it means, and thouroughly read the reason why this was added as explained in https://github.com/huggingface/transformers/pull/24565\n"
     ]
    },
    {
     "data": {
      "application/vnd.jupyter.widget-view+json": {
       "model_id": "e8a3e3ad698242a9817401496b0b66f8",
       "version_major": 2,
       "version_minor": 0
      },
      "text/plain": [
       "Loading checkpoint shards:   0%|          | 0/3 [00:00<?, ?it/s]"
      ]
     },
     "metadata": {},
     "output_type": "display_data"
    }
   ],
   "source": [
    "# Please change the following objects to  \"YOUR-LLAMA-PATH\" and \"YOUR-DATAINF-PATH\"\n",
    "base_path = \"/burg/stats/users/yk3012/projects/llama/models_hf/llama-2-13b-chat\" \n",
    "project_path =\"/burg/home/yk3012/repos/DataInf\" \n",
    "lora_engine = LORAEngineGeneration(base_path=base_path, \n",
    "                                   project_path=project_path,\n",
    "                                   dataset_name='math_with_reason')"
   ]
  },
  {
   "cell_type": "markdown",
   "id": "e6df744c",
   "metadata": {},
   "source": [
    "### Example: model prediction\n",
    "The following prompt has not been seen during the fine-tuning process, although there are many similar addition problems. "
   ]
  },
  {
   "cell_type": "code",
   "execution_count": 16,
   "id": "db75df7c",
   "metadata": {},
   "outputs": [
    {
     "name": "stderr",
     "output_type": "stream",
     "text": [
      "/burg/stats/users/yk3012/software/miniconda3/lib/python3.11/site-packages/bitsandbytes-0.41.1-py3.11.egg/bitsandbytes/autograd/_functions.py:322: UserWarning: MatMul8bitLt: inputs will be cast from torch.bfloat16 to float16 during quantization\n",
      "  warnings.warn(f\"MatMul8bitLt: inputs will be cast from {A.dtype} to float16 during quantization\")\n"
     ]
    },
    {
     "name": "stdout",
     "output_type": "stream",
     "text": [
      "--------------------------------------------------\n",
      "Print Input prompt\n",
      "\n",
      "Emily scored 10 points in the first game, 30 points in the second, 100 in the third, and 20 in the fourth game. What is her total points? Output only the answer.\n",
      "\n",
      "--------------------------------------------------\n",
      "Print Model output\n",
      "\n",
      "Emily scored 10 points in the first game, 30 points in the second, 100 in the third, and 20 in the fourth game. What is her total points? Output only the answer.\n",
      "\n",
      "Answer: 160.\n",
      "--------------------------------------------------\n"
     ]
    }
   ],
   "source": [
    "prompt = \"\"\"\n",
    "Emily scored 10 points in the first game, 30 points in the second, 100 in the third, and 20 in the fourth game. What is her total points? Output only the answer.\n",
    "\"\"\"\n",
    "inputs = lora_engine.tokenizer(prompt, return_tensors=\"pt\").to(\"cuda\")\n",
    "\n",
    "# Generate\n",
    "generate_ids = lora_engine.model.generate(input_ids=inputs.input_ids, \n",
    "                                          max_length=128,\n",
    "                                          pad_token_id=lora_engine.tokenizer.eos_token_id)\n",
    "output = lora_engine.tokenizer.batch_decode(\n",
    "    generate_ids, skip_special_tokens=True, clean_up_tokenization_spaces=True\n",
    ")[0]\n",
    "\n",
    "print('-'*50)\n",
    "print('Print Input prompt')\n",
    "print(prompt)\n",
    "print('-'*50)\n",
    "print('Print Model output')\n",
    "print(output)\n",
    "print('-'*50)"
   ]
  },
  {
   "cell_type": "markdown",
   "id": "effb829f",
   "metadata": {},
   "source": [
    "## Compute the gradient\n",
    " - Influence function uses the first-order gradient of a loss function. Here we compute gradients using `compute_gradient`\n",
    " - `tr_grad_dict` has a nested structure of two Python dictionaries. The outer dictionary has `{an index of the training data: a dictionary of gradients}` and the inner dictionary has `{layer name: gradients}`. The `val_grad_dict` has the same structure but for the validationd data points. "
   ]
  },
  {
   "cell_type": "code",
   "execution_count": 5,
   "id": "67d34884",
   "metadata": {
    "scrolled": false
   },
   "outputs": [
    {
     "name": "stderr",
     "output_type": "stream",
     "text": [
      "Parameter 'function'=<function LORAEngineGeneration.create_tokenized_datasets.<locals>.<lambda> at 0x15543d6fa980> of the transform datasets.arrow_dataset.Dataset._map_single couldn't be hashed properly, a random hash was used instead. Make sure your transforms and parameters are serializable with pickle or dill for the dataset fingerprinting and caching to work. If you reuse this transform, the caching mechanism will consider it to be different from the previous calls and recompute everything. This warning is only showed once. Subsequent hashing failures won't be showed.\n"
     ]
    },
    {
     "data": {
      "application/vnd.jupyter.widget-view+json": {
       "model_id": "",
       "version_major": 2,
       "version_minor": 0
      },
      "text/plain": [
       "Map:   0%|          | 0/900 [00:00<?, ? examples/s]"
      ]
     },
     "metadata": {},
     "output_type": "display_data"
    },
    {
     "data": {
      "application/vnd.jupyter.widget-view+json": {
       "model_id": "",
       "version_major": 2,
       "version_minor": 0
      },
      "text/plain": [
       "Map:   0%|          | 0/100 [00:00<?, ? examples/s]"
      ]
     },
     "metadata": {},
     "output_type": "display_data"
    },
    {
     "name": "stderr",
     "output_type": "stream",
     "text": [
      "100%|██████████████████████████████████████████████████████████████████████████████████████████████████████| 900/900 [18:01<00:00,  1.20s/it]\n",
      "100%|██████████████████████████████████████████████████████████████████████████████████████████████████████| 100/100 [02:00<00:00,  1.20s/it]\n"
     ]
    }
   ],
   "source": [
    "tokenized_datasets, collate_fn = lora_engine.create_tokenized_datasets()\n",
    "tr_grad_dict, val_grad_dict = lora_engine.compute_gradient(tokenized_datasets, collate_fn)"
   ]
  },
  {
   "cell_type": "markdown",
   "id": "6f47b2ec",
   "metadata": {},
   "source": [
    "## Compute the influence function\n",
    " - We compute the inverse Hessian vector product first using `compute_hvps()`. With the argument `compute_accurate=True`, the exact influence function value will be computed. (it may take an hour to compute).\n",
    "<!--  - Here, we take a look at the first five validation data points. -->"
   ]
  },
  {
   "cell_type": "code",
   "execution_count": 7,
   "id": "94703c8c",
   "metadata": {},
   "outputs": [
    {
     "name": "stdout",
     "output_type": "stream",
     "text": [
      "Computing IF for method:  identity\n",
      "Computing IF for method:  proposed\n"
     ]
    }
   ],
   "source": [
    "influence_engine = IFEngineGeneration()\n",
    "influence_engine.preprocess_gradients(tr_grad_dict, val_grad_dict)\n",
    "influence_engine.compute_hvps()\n",
    "influence_engine.compute_IF()"
   ]
  },
  {
   "cell_type": "markdown",
   "id": "eb6f625e",
   "metadata": {},
   "source": [
    "## Attributes of influence_engine\n",
    "There are a couple of useful attributes in `influence_engine`. For intance, to compare the runtime, one case use `time_dict`."
   ]
  },
  {
   "cell_type": "code",
   "execution_count": 8,
   "id": "7321f6af",
   "metadata": {},
   "outputs": [
    {
     "data": {
      "text/plain": [
       "defaultdict(list,\n",
       "            {'identity': 2.86102294921875e-06, 'proposed': 116.60622978210449})"
      ]
     },
     "execution_count": 8,
     "metadata": {},
     "output_type": "execute_result"
    }
   ],
   "source": [
    "influence_engine.time_dict"
   ]
  },
  {
   "cell_type": "code",
   "execution_count": 9,
   "id": "085e0d17",
   "metadata": {},
   "outputs": [
    {
     "data": {
      "text/plain": [
       "dict_keys(['identity', 'proposed'])"
      ]
     },
     "execution_count": 9,
     "metadata": {},
     "output_type": "execute_result"
    }
   ],
   "source": [
    "influence_engine.IF_dict.keys()"
   ]
  },
  {
   "cell_type": "markdown",
   "id": "c06cc0dc",
   "metadata": {},
   "source": [
    "## Application to influential data detection task\n",
    "- We inspect the most influential data points for several validation data points."
   ]
  },
  {
   "cell_type": "code",
   "execution_count": 12,
   "id": "4d47bb20",
   "metadata": {},
   "outputs": [
    {
     "data": {
      "text/plain": [
       "0    443\n",
       "1    167\n",
       "2    683\n",
       "3    664\n",
       "4    372\n",
       "dtype: int64"
      ]
     },
     "execution_count": 12,
     "metadata": {},
     "output_type": "execute_result"
    }
   ],
   "source": [
    "influence_engine.IF_dict['identity'].apply(lambda x: x.argmin(), axis=1)"
   ]
  },
  {
   "cell_type": "code",
   "execution_count": 13,
   "id": "255499d1",
   "metadata": {},
   "outputs": [
    {
     "data": {
      "text/plain": [
       "0    664\n",
       "1    664\n",
       "2    664\n",
       "3    664\n",
       "4    664\n",
       "dtype: int64"
      ]
     },
     "execution_count": 13,
     "metadata": {},
     "output_type": "execute_result"
    }
   ],
   "source": [
    "influence_engine.IF_dict['proposed'].apply(lambda x: x.argmin(), axis=1)"
   ]
  },
  {
   "cell_type": "code",
   "execution_count": null,
   "id": "72771026",
   "metadata": {},
   "outputs": [],
   "source": []
  }
 ],
 "metadata": {
  "kernelspec": {
   "display_name": "Python 3 (ipykernel)",
   "language": "python",
   "name": "python3"
  },
  "language_info": {
   "codemirror_mode": {
    "name": "ipython",
    "version": 3
   },
   "file_extension": ".py",
   "mimetype": "text/x-python",
   "name": "python",
   "nbconvert_exporter": "python",
   "pygments_lexer": "ipython3",
   "version": "3.11.4"
  }
 },
 "nbformat": 4,
 "nbformat_minor": 5
}
